{
 "cells": [
  {
   "cell_type": "code",
   "execution_count": 15,
   "metadata": {},
   "outputs": [
    {
     "name": "stdout",
     "output_type": "stream",
     "text": [
      "List: [10, 501, 22, 37, 100, 999, 87, 351]\n"
     ]
    }
   ],
   "source": [
    "#1.create python class with name as circle with constructor and pass list  [10,501,22,37,100,999,87,351]as arg\n",
    "\n",
    "class Circle:\n",
    "    def __init__(self, numbers):\n",
    "        self.numbers = numbers\n",
    "\n",
    "# Example usage\n",
    "numbers_list = [10, 501, 22, 37, 100, 999, 87, 351]\n",
    "circle_instance = Circle(numbers_list)\n",
    "print(\"List:\",circle_instance.numbers)"
   ]
  },
  {
   "cell_type": "code",
   "execution_count": 13,
   "metadata": {},
   "outputs": [
    {
     "name": "stdout",
     "output_type": "stream",
     "text": [
      "Area of the circle with radius 5 is: 78.5\n"
     ]
    }
   ],
   "source": [
    "#2.create class private variable pi=3.141 and use it\n",
    "\n",
    "class Circle:\n",
    "    def __init__(self, numbers):\n",
    "        self.numbers = numbers\n",
    "        self.__pi = 3.14  # Private variable\n",
    "\n",
    "    def calculate_area(self, radius):\n",
    "        return self.__pi * radius * radius\n",
    "\n",
    "# Example usage\n",
    "numbers_list = [10, 501, 22, 37, 100, 999, 87, 351]\n",
    "circle_instance = Circle(numbers_list)\n",
    "radius = 5\n",
    "area = circle_instance.calculate_area(radius)\n",
    "print(\"Area of the circle with radius\", radius, \"is:\", area)"
   ]
  },
  {
   "cell_type": "code",
   "execution_count": 17,
   "metadata": {},
   "outputs": [
    {
     "name": "stdout",
     "output_type": "stream",
     "text": [
      "List: [10, 501, 22, 37, 100, 999, 87, 351]\n",
      "Pi: 3.14159\n",
      "Areas: [314.159, 788542.23159, 1520.52956, 4300.83671, 31415.899999999998, 3135309.96159, 23778.69471, 387047.02959]\n",
      "Perimeters: [62.8318, 3147.87318, 138.22996, 232.47766, 628.318, 6276.89682, 546.63666, 2205.3961799999997]\n"
     ]
    }
   ],
   "source": [
    "#3.create two methods to calculate area and perimeter using list \n",
    "class Circle:\n",
    "    def __init__(self, my_list):\n",
    "        self.my_list = my_list\n",
    "        self.pi = 3.14159  \n",
    "\n",
    "    def calculate_area(self):\n",
    "        areas = []\n",
    "        for radius in self.my_list:\n",
    "            area = self.pi * (radius ** 2)\n",
    "            areas.append(area)\n",
    "        return areas\n",
    "\n",
    "    def calculate_perimeter(self):\n",
    "        perimeters = []\n",
    "        for radius in self.my_list:\n",
    "            perimeter = 2 * self.pi * radius\n",
    "            perimeters.append(perimeter)\n",
    "        return perimeters\n",
    "\n",
    "# Creating an instance of Circle with a list passed to the constructor\n",
    "new_list = [10, 501, 22, 37, 100, 999, 87, 351]\n",
    "obj = Circle(new_list)\n",
    "\n",
    "# Accessing the list attribute and pi  variable of the instance\n",
    "print(\"List:\", obj.my_list)\n",
    "print(\"Pi:\", obj.pi)\n",
    "\n",
    "# Calculating and printing area and perimeter for each radius\n",
    "print(\"Areas:\", obj.calculate_area())\n",
    "print(\"Perimeters:\", obj.calculate_perimeter())\n"
   ]
  },
  {
   "cell_type": "code",
   "execution_count": 24,
   "metadata": {},
   "outputs": [
    {
     "name": "stdout",
     "output_type": "stream",
     "text": [
      "Samsung at channel 10, volume 51\n",
      "Samsung Smart TV Details:\n",
      "        - Price: $1000\n",
      "        - Inches: 55\"\n",
      "        - Thickness: 1.5 inches\n",
      "        - Energy Usage: 120 watts\n",
      "        - Lifespan: 10 years\n",
      "        - Refresh Rate: 60 Hz\n",
      "        - Viewing Angle: 178 degrees\n",
      "        - Backlight: LED\n"
     ]
    }
   ],
   "source": [
    "#4.\n",
    "class TV:\n",
    "    def __init__(self, brand, price, inches):\n",
    "        # Initialize basic TV properties\n",
    "        self.brand = brand\n",
    "        self.channel = 1\n",
    "        self.price = price\n",
    "        self.inches = inches\n",
    "        self.volume = 50\n",
    "        self.on = False\n",
    "\n",
    "    def increase_volume(self):\n",
    "        # Increase volume by 1 if it's not already at maximum (100)\n",
    "        if self.volume < 100:\n",
    "            self.volume += 1\n",
    "\n",
    "    def decrease_volume(self):\n",
    "        # Decrease volume by 1 if it's not already at minimum (0)\n",
    "        if self.volume > 0:\n",
    "            self.volume -= 1\n",
    "\n",
    "    def set_channel(self, channel):\n",
    "        # Set the channel if it's within the range 1 to 50\n",
    "        if 1 <= channel <= 50:\n",
    "            self.channel = channel\n",
    "\n",
    "    def reset_tv(self):\n",
    "        # Reset TV to default settings (channel 1, volume 50)\n",
    "        self.channel = 1\n",
    "        self.volume = 50\n",
    "\n",
    "    def power_on_off(self):\n",
    "        # Toggle TV on/off status\n",
    "        self.on = not self.on\n",
    "\n",
    "    def status(self):\n",
    "        # Return status message indicating brand, channel, and volume\n",
    "        if self.on:\n",
    "            return f\"{self.brand} at channel {self.channel}, volume {self.volume}\"\n",
    "        else:\n",
    "            return f\"{self.brand} is turned off\"\n",
    "\n",
    "\n",
    "# TV class inheriting from the base TV class\n",
    "class LED(TV):\n",
    "    def __init__(self, brand, price, inches, thickness, energy_usage, lifespan, refresh_rate):\n",
    "        # Call the parent class constructor to initialize common properties\n",
    "        super().__init__(brand, price, inches)\n",
    "        \n",
    "        # Initialize additional properties specific to Smart TV\n",
    "        self.thickness = thickness\n",
    "        self.energy_usage = energy_usage\n",
    "        self.lifespan = lifespan\n",
    "        self.refresh_rate = refresh_rate\n",
    "        self.viewing_angle = None\n",
    "        self.backlight = None\n",
    "\n",
    "    def set_viewing_angle(self, angle):\n",
    "        # Method to set the viewing angle\n",
    "        self.viewing_angle = angle\n",
    "\n",
    "    def set_backlight(self, backlight_type):\n",
    "        # Method to set the backlight type\n",
    "        self.backlight = backlight_type\n",
    "\n",
    "    def display_details(self):\n",
    "        # Method to display detailed features of the Smart TV\n",
    "        details = f\"\"\"{self.brand} Smart TV Details:\n",
    "        - Price: ${self.price}\n",
    "        - Inches: {self.inches}\"\n",
    "        - Thickness: {self.thickness} inches\n",
    "        - Energy Usage: {self.energy_usage} watts\n",
    "        - Lifespan: {self.lifespan} years\n",
    "        - Refresh Rate: {self.refresh_rate} Hz\n",
    "        - Viewing Angle: {self.viewing_angle} degrees\n",
    "        - Backlight: {self.backlight}\"\"\"\n",
    "        return details\n",
    "\n",
    "\n",
    "# Example usage:\n",
    "smart_tv = LED(\"Samsung\", 1000, 55, 1.5, 120, 10, 60)\n",
    "\n",
    "smart_tv.power_on_off()\n",
    "smart_tv.set_channel(10)\n",
    "smart_tv.increase_volume()\n",
    "smart_tv.set_viewing_angle(178)\n",
    "smart_tv.set_backlight(\"LED\")\n",
    "\n",
    "print(smart_tv.status())  # Output: \"Samsung at channel 10, volume 51\"\n",
    "print(smart_tv.display_details())\n"
   ]
  }
 ],
 "metadata": {
  "kernelspec": {
   "display_name": "Python 3",
   "language": "python",
   "name": "python3"
  },
  "language_info": {
   "codemirror_mode": {
    "name": "ipython",
    "version": 3
   },
   "file_extension": ".py",
   "mimetype": "text/x-python",
   "name": "python",
   "nbconvert_exporter": "python",
   "pygments_lexer": "ipython3",
   "version": "3.12.2"
  }
 },
 "nbformat": 4,
 "nbformat_minor": 2
}
